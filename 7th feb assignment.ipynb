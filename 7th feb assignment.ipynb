{
 "cells": [
  {
   "cell_type": "code",
   "execution_count": 8,
   "id": "0a21f76b-c47e-4528-b396-904cff05b182",
   "metadata": {},
   "outputs": [
    {
     "name": "stdin",
     "output_type": "stream",
     "text": [
      "Enter the password :  PranaV@10#02$04\n"
     ]
    },
    {
     "data": {
      "text/plain": [
       "'Valid Password'"
      ]
     },
     "execution_count": 8,
     "metadata": {},
     "output_type": "execute_result"
    }
   ],
   "source": [
    "#1) Check password.\n",
    "\n",
    "def check_Password(password):\n",
    "    fNum,fChar,fSpecial=0,0,0\n",
    "\n",
    "    up,low,special=0,0,0\n",
    "\n",
    "    s='[@_!#$%^&*()<>?/\\|}{~:]'\n",
    "\n",
    "    if len(password)>=10:\n",
    "        for i in password:\n",
    "            if i.isnumeric():\n",
    "                fNum=1\n",
    "            if i.isalpha():\n",
    "                if i == i.upper():\n",
    "                    up+=1\n",
    "                elif i == i.lower():\n",
    "                    low+=1\n",
    "                if (up>=2 and low>=2):\n",
    "                    fChar=1\n",
    "            if i in s:\n",
    "                special+=1\n",
    "                if(special>=3):\n",
    "                    fSpecial=1\n",
    "        if(fNum==1 and fChar==1 and fSpecial==1):\n",
    "            return 'Valid Password'\n",
    "        else:\n",
    "            return 'Invalid Password'\n",
    "    else:\n",
    "        return 'Invalid Password'\n",
    "    \n",
    "password=str(input('Enter the password : '))\n",
    "\n",
    "check_Password(password)"
   ]
  },
  {
   "cell_type": "code",
   "execution_count": 1,
   "id": "e767bb75-c497-46fd-8098-a9249967af9b",
   "metadata": {},
   "outputs": [],
   "source": [
    "#2) Solve the following questions"
   ]
  },
  {
   "cell_type": "code",
   "execution_count": 7,
   "id": "3a368210-0835-43fa-b5b3-5664c91b6fb6",
   "metadata": {},
   "outputs": [
    {
     "name": "stdout",
     "output_type": "stream",
     "text": [
      "['apple']\n"
     ]
    }
   ],
   "source": [
    "#Check if the string starts with a particular letter:\n",
    "\n",
    "# Using filter function\n",
    "strings = [\"apple\", \"banana\", \"cherry\", \"date\"]\n",
    "letter = \"a\"\n",
    "starts_with_a = filter(lambda s: s.startswith(letter), strings)\n",
    "print(list(starts_with_a))  \n"
   ]
  },
  {
   "cell_type": "code",
   "execution_count": 8,
   "id": "58b09d72-7cbd-4c8a-87c1-43b21bad2f26",
   "metadata": {},
   "outputs": [
    {
     "name": "stdout",
     "output_type": "stream",
     "text": [
      "True\n",
      "False\n"
     ]
    }
   ],
   "source": [
    "#Check if the string is numeric:\n",
    "\n",
    "# Using lambda function\n",
    "string1 = \"123\"\n",
    "string2 = \"abc\"\n",
    "is_numeric = lambda s: s.isnumeric()\n",
    "print(is_numeric(string1))  \n",
    "print(is_numeric(string2))  \n",
    "\n"
   ]
  },
  {
   "cell_type": "code",
   "execution_count": 9,
   "id": "c3d493fa-482e-4096-8689-8a56a130883e",
   "metadata": {},
   "outputs": [
    {
     "name": "stdout",
     "output_type": "stream",
     "text": [
      "[('orange', 80), ('mango', 99), ('grapes', 1000)]\n"
     ]
    }
   ],
   "source": [
    "#Sort a list of tuples having fruit names and their quantity:\n",
    "\n",
    "# Using lambda function\n",
    "fruits = [(\"mango\", 99), (\"orange\", 80), (\"grapes\", 1000)]\n",
    "sorted_fruits = sorted(fruits, key=lambda x: x[1])\n",
    "print(sorted_fruits) \n",
    "\n"
   ]
  },
  {
   "cell_type": "code",
   "execution_count": 10,
   "id": "8a866fd3-ff33-42c2-b9c7-b424f845848e",
   "metadata": {},
   "outputs": [
    {
     "name": "stdout",
     "output_type": "stream",
     "text": [
      "[1, 4, 9, 16, 25, 36, 49, 64, 81, 100]\n"
     ]
    }
   ],
   "source": [
    "#Find the squares of numbers from 1 to 10:\n",
    "\n",
    "# Using map function with lambda\n",
    "squares = map(lambda x: x**2, range(1, 11))\n",
    "print(list(squares))   \n"
   ]
  },
  {
   "cell_type": "code",
   "execution_count": 11,
   "id": "64213847-8c08-4cee-b1e3-7ce239dd3bb8",
   "metadata": {},
   "outputs": [
    {
     "name": "stdout",
     "output_type": "stream",
     "text": [
      "[1.0, 1.2599210498948732, 1.4422495703074083, 1.5874010519681994, 1.7099759466766968, 1.8171205928321397, 1.912931182772389, 2.0, 2.080083823051904, 2.154434690031884]\n"
     ]
    }
   ],
   "source": [
    "#Find the cube root of numbers from 1 to 10:\n",
    "\n",
    "# Using list comprehension\n",
    "import math\n",
    "cube_roots = [math.pow(i, 1/3) for i in range(1, 11)]\n",
    "print(cube_roots)  \n"
   ]
  },
  {
   "cell_type": "code",
   "execution_count": 12,
   "id": "fe7420d8-8fcb-48db-82c2-9d0ce503eda5",
   "metadata": {},
   "outputs": [
    {
     "name": "stdout",
     "output_type": "stream",
     "text": [
      "True\n"
     ]
    }
   ],
   "source": [
    "#Check if a given number is even:\n",
    "num = 6\n",
    "is_even = lambda x: x % 2 == 0\n",
    "print(is_even(num))"
   ]
  },
  {
   "cell_type": "code",
   "execution_count": 13,
   "id": "af6f606d-b6f7-4da9-afea-cca5dc2f5a3d",
   "metadata": {},
   "outputs": [
    {
     "name": "stdout",
     "output_type": "stream",
     "text": [
      "[1, 3, 5, 7, 9]\n"
     ]
    }
   ],
   "source": [
    "#Filter odd numbers from the given list:\n",
    "lst = [1, 2, 3, 4, 5, 6, 7, 8, 9, 10]\n",
    "odd_lst = list(filter(lambda x: x % 2 != 0, lst))\n",
    "print(odd_lst)  # [1, 3, 5, 7, 9]\n"
   ]
  },
  {
   "cell_type": "code",
   "execution_count": 14,
   "id": "10ac0199-50da-4659-82d3-4e827ddb9560",
   "metadata": {},
   "outputs": [
    {
     "name": "stdout",
     "output_type": "stream",
     "text": [
      "[1, 2, 3, 4, 5, 6]\n",
      "[-1, -2, -3, -4, -5]\n"
     ]
    }
   ],
   "source": [
    "#Sort a list of integers into positive and negative integers lists:\n",
    "lst = [1, 2, 3, 4, 5, 6, -1, -2, -3, -4, -5, 0]\n",
    "positive_lst = list(filter(lambda x: x > 0, lst))\n",
    "negative_lst = list(filter(lambda x: x < 0, lst))\n",
    "print(positive_lst)  # [1, 2, 3, 4, 5, 6]\n",
    "print(negative_lst)  # [-1, -2, -3, -4, -5]\n"
   ]
  },
  {
   "cell_type": "code",
   "execution_count": null,
   "id": "b18a329d-a1b8-4745-bedc-8c2e9fc72995",
   "metadata": {},
   "outputs": [],
   "source": []
  }
 ],
 "metadata": {
  "kernelspec": {
   "display_name": "Python 3 (ipykernel)",
   "language": "python",
   "name": "python3"
  },
  "language_info": {
   "codemirror_mode": {
    "name": "ipython",
    "version": 3
   },
   "file_extension": ".py",
   "mimetype": "text/x-python",
   "name": "python",
   "nbconvert_exporter": "python",
   "pygments_lexer": "ipython3",
   "version": "3.10.8"
  }
 },
 "nbformat": 4,
 "nbformat_minor": 5
}
